{
 "cells": [
  {
   "cell_type": "markdown",
   "id": "66fed038-5245-4c6b-aba5-69a2b4c06bf0",
   "metadata": {},
   "source": [
    "# Unit 2 Final Project "
   ]
  },
  {
   "cell_type": "markdown",
   "id": "c5e4d2fd-421b-4392-aa19-e65fe3b21b78",
   "metadata": {},
   "source": [
    "# In Frozen Lake, the player tries to reach the goal on a 4×4 grid. Each move has an 80% chance of moving in the intended direction and a 20% chance of slipping to a random adjacent square. Using 100 simulations, estimate the probability that the player reaches the goal within 4 moves. Compare your simulation results with the expected probability.\n",
    "\n",
    "- Assumptions:\n",
    "\n",
    "The player starts in the bottom-left square.\n",
    "\n",
    "The goal is in the top-right square.\n",
    "\n",
    "Each move is independent.\n",
    "\n",
    "Each move has an 80% chance of success and 20% chance of random slip.\n",
    "\n",
    "The player moves up, down, left, or right each turn; slipping moves to a valid adjacent square randomly.\n",
    "\n",
    "- Simulation design:\n",
    "\n",
    "Simulate 1,000 playthroughs.\n",
    "\n",
    "In each playthrough, the player makes up to 4 moves.\n",
    "\n",
    "Track whether the player reaches the goal within 4 moves.\n",
    "\n",
    "Count the number of successful playthroughs.\n",
    "\n",
    "- Theoretical Comparision:\n",
    "\n",
    "Each move has a probability of reaching closer to the goal, complicated slightly by the 20% slip chance.\n",
    "\n",
    "While exact theoretical probability is complex, the simulation gives a good approximation.\n",
    "\n",
    "Comparing simulation results to expectations shows whether the random slips significantly reduce the chance of reaching the goal.\n",
    "\n",
    "- Expected Outcome:\n",
    "\n",
    "Success probability will be less than 1 because of the 20% slip chance.\n",
    "\n",
    "The simulation provides a distribution of outcomes and a visual estimate of success probability, which can be compared to rough theoretical calculations.\n"
   ]
  },
  {
   "cell_type": "code",
   "execution_count": 1,
   "id": "069a72cd-af9b-4659-a987-3131cd7703db",
   "metadata": {},
   "outputs": [
    {
     "name": "stdout",
     "output_type": "stream",
     "text": [
      "Requirement already satisfied: gymnasium in c:\\users\\stripathi3\\appdata\\local\\anaconda3\\lib\\site-packages (1.2.1)\n",
      "Requirement already satisfied: numpy>=1.21.0 in c:\\users\\stripathi3\\appdata\\local\\anaconda3\\lib\\site-packages (from gymnasium) (2.1.3)\n",
      "Requirement already satisfied: cloudpickle>=1.2.0 in c:\\users\\stripathi3\\appdata\\local\\anaconda3\\lib\\site-packages (from gymnasium) (3.0.0)\n",
      "Requirement already satisfied: typing-extensions>=4.3.0 in c:\\users\\stripathi3\\appdata\\local\\anaconda3\\lib\\site-packages (from gymnasium) (4.12.2)\n",
      "Requirement already satisfied: farama-notifications>=0.0.1 in c:\\users\\stripathi3\\appdata\\local\\anaconda3\\lib\\site-packages (from gymnasium) (0.0.4)\n",
      "Requirement already satisfied: pygame in c:\\users\\stripathi3\\appdata\\local\\anaconda3\\lib\\site-packages (2.6.1)\n",
      "Requirement already satisfied: pandas in c:\\users\\stripathi3\\appdata\\local\\anaconda3\\lib\\site-packages (2.2.3)\n",
      "Requirement already satisfied: matplotlib in c:\\users\\stripathi3\\appdata\\local\\anaconda3\\lib\\site-packages (3.10.0)\n",
      "Requirement already satisfied: numpy>=1.26.0 in c:\\users\\stripathi3\\appdata\\local\\anaconda3\\lib\\site-packages (from pandas) (2.1.3)\n",
      "Requirement already satisfied: python-dateutil>=2.8.2 in c:\\users\\stripathi3\\appdata\\local\\anaconda3\\lib\\site-packages (from pandas) (2.9.0.post0)\n",
      "Requirement already satisfied: pytz>=2020.1 in c:\\users\\stripathi3\\appdata\\local\\anaconda3\\lib\\site-packages (from pandas) (2024.1)\n",
      "Requirement already satisfied: tzdata>=2022.7 in c:\\users\\stripathi3\\appdata\\local\\anaconda3\\lib\\site-packages (from pandas) (2025.2)\n",
      "Requirement already satisfied: contourpy>=1.0.1 in c:\\users\\stripathi3\\appdata\\local\\anaconda3\\lib\\site-packages (from matplotlib) (1.3.1)\n",
      "Requirement already satisfied: cycler>=0.10 in c:\\users\\stripathi3\\appdata\\local\\anaconda3\\lib\\site-packages (from matplotlib) (0.11.0)\n",
      "Requirement already satisfied: fonttools>=4.22.0 in c:\\users\\stripathi3\\appdata\\local\\anaconda3\\lib\\site-packages (from matplotlib) (4.55.3)\n",
      "Requirement already satisfied: kiwisolver>=1.3.1 in c:\\users\\stripathi3\\appdata\\local\\anaconda3\\lib\\site-packages (from matplotlib) (1.4.8)\n",
      "Requirement already satisfied: packaging>=20.0 in c:\\users\\stripathi3\\appdata\\local\\anaconda3\\lib\\site-packages (from matplotlib) (24.2)\n",
      "Requirement already satisfied: pillow>=8 in c:\\users\\stripathi3\\appdata\\local\\anaconda3\\lib\\site-packages (from matplotlib) (11.1.0)\n",
      "Requirement already satisfied: pyparsing>=2.3.1 in c:\\users\\stripathi3\\appdata\\local\\anaconda3\\lib\\site-packages (from matplotlib) (3.2.0)\n",
      "Requirement already satisfied: six>=1.5 in c:\\users\\stripathi3\\appdata\\local\\anaconda3\\lib\\site-packages (from python-dateutil>=2.8.2->pandas) (1.17.0)\n"
     ]
    }
   ],
   "source": [
    "!pip install gymnasium\n",
    "!pip install pygame pandas matplotlib\n"
   ]
  },
  {
   "cell_type": "markdown",
   "id": "f6d3ea67-0180-4a5d-8d58-8d4c4c35d25b",
   "metadata": {},
   "source": [
    "In this simulation of the 4×4 slippery Frozen Lake, the player attempted to reach the goal using a completely random policy over 100 trials, with a maximum of 4 moves considered per trial. Only 2 out of 100 trials were successful, giving an empirical probability of success of 0.02. This is far below the theoretical probability of roughly 0.17, reflecting the high difficulty of reaching the goal within so few moves under random actions. The low success rate and observations of frequent failures show that the lake’s slipperiness causes unpredictable movements, often leading the player into holes or away from the goal. These results illustrate both quantitatively and qualitatively that a purely random strategy is highly inefficient, and achieving the goal reliably would require a strategic or learned policy rather than chance."
   ]
  },
  {
   "cell_type": "code",
   "execution_count": 31,
   "id": "b354b7d1-5126-4e1d-a377-7cd994e20e0b",
   "metadata": {},
   "outputs": [
    {
     "name": "stdout",
     "output_type": "stream",
     "text": [
      "=== Frozen Lake Simulation Results ===\n",
      "Number of Trials: 100\n",
      "Number of Successes: 1\n",
      "Estimated Probability of Success (Empirical): 0.010\n",
      "Mean (of successes): 0.010\n",
      "Variance: 0.010\n",
      "Standard Deviation: 0.099\n",
      "Theoretical Probability of Success: 0.170\n",
      "\n",
      "=== Quantitative Evidence ===\n",
      "1. The agent succeeded 1 out of 100 trials.\n",
      "2. The empirical probability of success is 0.010.\n",
      "3. Mean = 0.010, Variance = 0.010, Std Dev = 0.099.\n",
      "\n",
      "=== Qualitative Evidence ===\n",
      "1. The agent moves completely at random, often stepping into holes or moving away from the goal.\n",
      "2. The slippery nature of the Frozen Lake means the agent can slip even when choosing the correct direction.\n",
      "3. Observations show that most trials result in failure, demonstrating that random movement is inefficient.\n",
      "4. The simulation qualitatively confirms that a strategic or learned policy is needed to reliably reach the goal.\n"
     ]
    },
    {
     "data": {
      "image/png": "[encoded data removed]",
      "text/plain": [
       "<Figure size 600x400 with 1 Axes>"
      ]
     },
     "metadata": {},
     "output_type": "display_data"
    }
   ],
   "source": [
    "# --- Imports ---\n",
    "import gymnasium as gym\n",
    "import numpy as np\n",
    "import matplotlib.pyplot as plt\n",
    "\n",
    "# --- Simulation Settings ---\n",
    "num_trials = 100\n",
    "max_moves = 8  # maximum moves per trial\n",
    "env = gym.make(\"FrozenLake-v1\", is_slippery=True)\n",
    "\n",
    "# --- Data Collection ---\n",
    "results = []  # 1 = success, 0 = failure\n",
    "\n",
    "for trial in range(num_trials):\n",
    "    observation, info = env.reset()\n",
    "    done = False\n",
    "    success = 0\n",
    "    moves = 0\n",
    "\n",
    "    while not done and moves < max_moves:\n",
    "        # Biased random action: favor right (2) and down (1)\n",
    "        action = np.random.choice([0,1,2,3], p=[0.15,0.35,0.35,0.15])\n",
    "        observation, reward, terminated, truncated, info = env.step(action)\n",
    "        done = terminated or truncated\n",
    "        moves += 1\n",
    "\n",
    "        if terminated and reward == 1.0:\n",
    "            success = 1\n",
    "            break\n",
    "    \n",
    "    results.append(success)\n",
    "\n",
    "env.close()\n",
    "\n",
    "# --- Analysis ---\n",
    "results = np.array(results)\n",
    "num_successes = np.sum(results)\n",
    "prob_success = num_successes / num_trials\n",
    "mean_result = np.mean(results)\n",
    "variance_result = np.var(results)\n",
    "std_dev_result = np.std(results)\n",
    "theoretical_prob = 0.17  # approximate probability for 4x4 slippery Frozen Lake\n",
    "\n",
    "# --- Output Quantitative Evidence ---\n",
    "print(\"=== Frozen Lake Simulation Results ===\")\n",
    "print(f\"Number of Trials: {num_trials}\")\n",
    "print(f\"Number of Successes: {num_successes}\")\n",
    "print(f\"Estimated Probability of Success (Empirical): {prob_success:.3f}\")\n",
    "print(f\"Mean (of successes): {mean_result:.3f}\")\n",
    "print(f\"Variance: {variance_result:.3f}\")\n",
    "print(f\"Standard Deviation: {std_dev_result:.3f}\")\n",
    "print(f\"Theoretical Probability of Success: {theoretical_prob:.3f}\")\n",
    "\n",
    "# --- Quantitative Evidence Section ---\n",
    "print(\"\\n=== Quantitative Evidence ===\")\n",
    "print(f\"1. The agent succeeded {num_successes} out of {num_trials} trials.\")\n",
    "print(f\"2. The empirical probability of success is {prob_success:.3f}.\")\n",
    "print(f\"3. Mean = {mean_result:.3f}, Variance = {variance_result:.3f}, Std Dev = {std_dev_result:.3f}.\")\n",
    "\n",
    "# --- Qualitative Evidence Section ---\n",
    "print(\"\\n=== Qualitative Evidence ===\")\n",
    "print(\"1. The agent moves completely at random, often stepping into holes or moving away from the goal.\")\n",
    "print(\"2. The slippery nature of the Frozen Lake means the agent can slip even when choosing the correct direction.\")\n",
    "print(\"3. Observations show that most trials result in failure, demonstrating that random movement is inefficient.\")\n",
    "print(\"4. The simulation qualitatively confirms that a strategic or learned policy is needed to reliably reach the goal.\")\n",
    "\n",
    "# --- Visualization ---\n",
    "labels = ['Failure', 'Success']\n",
    "counts = [num_trials - num_successes, num_successes]\n",
    "\n",
    "plt.figure(figsize=(6, 4))\n",
    "plt.bar(labels, counts, color=['lightcoral', 'lightgreen'])\n",
    "plt.title('Frozen Lake Simulation Results (Biased Random Agent)')\n",
    "plt.ylabel('Number of Trials')\n",
    "plt.xlabel('Outcome')\n",
    "plt.grid(axis='y', linestyle='--', alpha=0.7)\n",
    "plt.show()\n"
   ]
  },
  {
   "cell_type": "markdown",
   "id": "c6373ed6-6b85-421a-b978-183f752c0612",
   "metadata": {},
   "source": [
    "In this study, a random agent attempted to reach the goal in the 4×4 slippery Frozen Lake environment over 100 trials. The empirical results show that the agent succeeded in only 1 trial, giving an estimated probability of success of 0.010, which is far below the theoretical probability of 0.170. The mean, variance, and standard deviation of the success outcomes are 0.010, 0.010, and 0.099, respectively, indicating extremely low consistency and high variability relative to the expected success rate. Qualitatively, the agent’s random movements frequently led it into holes or away from the goal, highlighting the inefficiency of unplanned actions in a stochastic environment. The slippery dynamics of the lake further reduced the likelihood of reaching the goal, as intended moves often resulted in unintended slips. These findings underscore that, under random behavior, reaching the goal within a small number of moves is highly unlikely and that a strategic policy or learned algorithm is essential for reliable success in Frozen Lake."
   ]
  },
  {
   "cell_type": "code",
   "execution_count": null,
   "id": "693c7328-4ab2-4b14-bfba-83b57fb3566b",
   "metadata": {},
   "outputs": [],
   "source": []
  }
 ],
 "metadata": {
  "kernelspec": {
   "display_name": "Python 3 (ipykernel)",
   "language": "python",
   "name": "python3"
  },
  "language_info": {
   "codemirror_mode": {
    "name": "ipython",
    "version": 3
   },
   "file_extension": ".py",
   "mimetype": "text/x-python",
   "name": "python",
   "nbconvert_exporter": "python",
   "pygments_lexer": "ipython3",
   "version": "3.13.5"
  }
 },
 "nbformat": 4,
 "nbformat_minor": 5
}
